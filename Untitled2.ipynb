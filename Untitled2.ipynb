{
 "cells": [
  {
   "cell_type": "code",
   "execution_count": 34,
   "metadata": {},
   "outputs": [
    {
     "name": "stdout",
     "output_type": "stream",
     "text": [
      "5 наибольшее\n",
      "Выводит максимальное из двух чисел.\n",
      "    Оба значения должны быть целыми числами.\n"
     ]
    }
   ],
   "source": [
    "def printMax(x, y):\n",
    "    '''Выводит максимальное из двух чисел.\n",
    "    Оба значения должны быть целыми числами.'''\n",
    "    x = int(x) # конвертируем в целые, если возможно\n",
    "    y = int(y)\n",
    "    if x > y:\n",
    "        print(x, 'наибольшее')\n",
    "    else:\n",
    "        print(y, 'наибольшее')\n",
    "printMax(3, 5)\n",
    "print(printMax.__doc__)"
   ]
  },
  {
   "cell_type": "code",
   "execution_count": null,
   "metadata": {},
   "outputs": [],
   "source": []
  },
  {
   "cell_type": "code",
   "execution_count": null,
   "metadata": {},
   "outputs": [],
   "source": []
  },
  {
   "cell_type": "code",
   "execution_count": null,
   "metadata": {},
   "outputs": [],
   "source": []
  },
  {
   "cell_type": "code",
   "execution_count": null,
   "metadata": {},
   "outputs": [],
   "source": []
  }
 ],
 "metadata": {
  "kernelspec": {
   "display_name": "Python 3",
   "language": "python",
   "name": "python3"
  },
  "language_info": {
   "codemirror_mode": {
    "name": "ipython",
    "version": 3
   },
   "file_extension": ".py",
   "mimetype": "text/x-python",
   "name": "python",
   "nbconvert_exporter": "python",
   "pygments_lexer": "ipython3",
   "version": "3.7.3"
  }
 },
 "nbformat": 4,
 "nbformat_minor": 2
}
