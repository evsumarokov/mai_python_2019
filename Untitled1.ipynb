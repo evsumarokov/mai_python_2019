{
 "cells": [
  {
   "cell_type": "code",
   "execution_count": 19,
   "metadata": {},
   "outputs": [],
   "source": [
    "#!/usr/bin/env python\n",
    "# coding: utf-8\n",
    "\n",
    "\n",
    "\n",
    "\n",
    "# ==================\n",
    "# ДЗ №3: функции\n",
    "# Дедлайн: 04 ноября 18:14\n",
    "# Результат присылать на адрес nike64@gmail.com\n",
    "\n",
    "# также прочитайте раздел \"Функции\" из книги \"A byte of Python\" (с.59)\n",
    "\n",
    "# Задание: сделайте анализ возрастного состава группы студентов, используя функции.\n",
    "# Помните, что а) у некоторых студентов отсутствуют данные по возрасту, б) возраст может быть задан диапазоном, например, 25-35. Поэтому не забывайте обрабатывать ошибки и исключения!\n",
    "\n",
    "import csv\n",
    "\n",
    "# помним, что в этот раз мы читаем не список списков, а список словарей!\n",
    "# ключи в словаре для каждого студента называются по первой строчке из файла student_ages.csv: \"Номер в списке\", \"Возраст\"\n",
    "ages_list = list()\n",
    "with open('ages.csv', encoding=\"utf-8\") as csvfile:\n",
    "    ages_dictreader = csv.DictReader(csvfile, delimiter=',')\n",
    "    ages_list = list(ages_dictreader)\n",
    "#print (ages_list)\n",
    "# подсказка: вот так мы можем получить данные из списка словарей\n",
    "# именно так мы уже делали в коде лекции с квартирами\n",
    "#for al in ages_list:\n",
    "    #print(f'\"Номер в списке\": {al[\"Номер в списке\"]}, \"Возраст\": {al[\"Возраст\"]}')\n",
    "    #print(al[])\n",
    "# Задание 1: напишите функцию, которая разделяет выборку студентов на две части: меньше или равно указанного возраста и больше указанного возраста\n",
    "# вернуться должна пара \"Номер в списке, Возраст\"\n",
    "def filter_students_1(age, l):\n",
    "\tunder_list = []\n",
    "\tupper_list = []\n",
    "\tunknownage_count = 0\n",
    "\tfor i in l:\n",
    "\t\tif {i[\"Возраст\"]} == None:\n",
    "\t\t\tprint (i)\n",
    "    # TODO 1: напишите ваш код проверки.\n",
    "    # не забудьте исключить студентов, у которых возраст не указан, и подсчитать их количество\n",
    "\n",
    "    # возвращаем результат из функции:\n",
    "    #return under_list, upper_list, unknownage_count\n",
    "a=1\n",
    "filter_students_1(a, ages_list)\n",
    "\n",
    "# вызываем функцию:\n",
    "#und_list, upp_list, unknwncount = filter_students_1(30)"
   ]
  },
  {
   "cell_type": "code",
   "execution_count": null,
   "metadata": {},
   "outputs": [],
   "source": []
  },
  {
   "cell_type": "code",
   "execution_count": null,
   "metadata": {},
   "outputs": [],
   "source": []
  }
 ],
 "metadata": {
  "kernelspec": {
   "display_name": "Python 3",
   "language": "python",
   "name": "python3"
  },
  "language_info": {
   "codemirror_mode": {
    "name": "ipython",
    "version": 3
   },
   "file_extension": ".py",
   "mimetype": "text/x-python",
   "name": "python",
   "nbconvert_exporter": "python",
   "pygments_lexer": "ipython3",
   "version": "3.7.3"
  }
 },
 "nbformat": 4,
 "nbformat_minor": 2
}
