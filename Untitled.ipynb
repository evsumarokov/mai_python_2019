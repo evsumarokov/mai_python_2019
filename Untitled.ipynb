{
 "cells": [
  {
   "cell_type": "code",
   "execution_count": 9,
   "metadata": {
    "scrolled": true
   },
   "outputs": [
    {
     "ename": "SyntaxError",
     "evalue": "invalid syntax (<ipython-input-9-93868669bdb8>, line 25)",
     "output_type": "error",
     "traceback": [
      "\u001b[0;36m  File \u001b[0;32m\"<ipython-input-9-93868669bdb8>\"\u001b[0;36m, line \u001b[0;32m25\u001b[0m\n\u001b[0;31m    def create parser():\u001b[0m\n\u001b[0m                    ^\u001b[0m\n\u001b[0;31mSyntaxError\u001b[0m\u001b[0;31m:\u001b[0m invalid syntax\n"
     ]
    }
   ],
   "source": [
    "import sys\n",
    "from datetime import datetime, time\n",
    "import argparse\n",
    "\n",
    "def create_log():\n",
    "    if len(name) > 0:\n",
    "        with open(name, \"w\", encoding=\"utf-8\") as f:\n",
    "            pass\n",
    "    \n",
    "def write_log(name, text):\n",
    "    if text is not None:\n",
    "        with open(name, \"a\", encoding=\"utf-8\") as f:\n",
    "              f.write(\"() ()\\n\".format(datetime.now().strftime(\"%Y-%m-%d %H:%M:%S\"), text))\n",
    "def main():\n",
    "    args = sys.argv[1:]\n",
    "    log_text = \"sssss\"\n",
    "    print(log_text)\n",
    "    if \"-log\" in args:\n",
    "        filename= args.index(\"-log\")+1\n",
    "        create_log(filename)\n",
    "        write_log(filename, log_text)\n",
    "                      \n",
    "#if __name__ == \"__main__\":\n",
    "#    main()\n",
    "\n",
    "def create parser():\n",
    "    parser = argpase.ArgumentParser(descriptions=\"main.py [-log <log_name>] -timestamp\")\n",
    "    parser.add_argument(\"log\", type=str, default =\"logfaile.log\", help=\"Имя файла лога. По умолчанию logfile.log\")\n",
    "    parser.add_argument(\"-timestamp\", )"
   ]
  },
  {
   "cell_type": "code",
   "execution_count": null,
   "metadata": {},
   "outputs": [],
   "source": []
  },
  {
   "cell_type": "code",
   "execution_count": null,
   "metadata": {},
   "outputs": [],
   "source": []
  },
  {
   "cell_type": "code",
   "execution_count": null,
   "metadata": {},
   "outputs": [],
   "source": []
  }
 ],
 "metadata": {
  "kernelspec": {
   "display_name": "Python 3",
   "language": "python",
   "name": "python3"
  },
  "language_info": {
   "codemirror_mode": {
    "name": "ipython",
    "version": 3
   },
   "file_extension": ".py",
   "mimetype": "text/x-python",
   "name": "python",
   "nbconvert_exporter": "python",
   "pygments_lexer": "ipython3",
   "version": "3.7.3"
  }
 },
 "nbformat": 4,
 "nbformat_minor": 2
}
