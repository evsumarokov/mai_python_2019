{
 "cells": [
  {
   "cell_type": "code",
   "execution_count": 7,
   "metadata": {
    "scrolled": true
   },
   "outputs": [
    {
     "name": "stdout",
     "output_type": "stream",
     "text": [
      "\n"
     ]
    }
   ],
   "source": [
    "import sys\n",
    "from datetime import datetime, time\n",
    "\n",
    "def create_log():\n",
    "    if len(name) > 0:\n",
    "        with open(name, \"w\", encoding=\"utf-8\") as f:\n",
    "            pass\n",
    "    \n",
    "def write_log(name, text):\n",
    "    if text is not None:\n",
    "        with open(name, \"a\", encoding=\"utf-8\") as f:\n",
    "              f.write(\"() ()\".format(datetime.now().strftime(\"%Y-%m-%d %H:%M:%S\"), text))\n",
    "def main():\n",
    "    args = sys.argv[1:]\n",
    "    log_text = \"\"\n",
    "    print(log_text)\n",
    "    if \"-log\" in args:\n",
    "        filename= args.index(\"-log\")+1\n",
    "        create_log(filename)\n",
    "        write_log(filename, log_text)\n",
    "                      \n",
    "if __name__ == \"__main__\":\n",
    "    main()"
   ]
  },
  {
   "cell_type": "code",
   "execution_count": null,
   "metadata": {},
   "outputs": [],
   "source": []
  },
  {
   "cell_type": "code",
   "execution_count": null,
   "metadata": {},
   "outputs": [],
   "source": []
  },
  {
   "cell_type": "code",
   "execution_count": null,
   "metadata": {},
   "outputs": [],
   "source": []
  }
 ],
 "metadata": {
  "kernelspec": {
   "display_name": "Python 3",
   "language": "python",
   "name": "python3"
  },
  "language_info": {
   "codemirror_mode": {
    "name": "ipython",
    "version": 3
   },
   "file_extension": ".py",
   "mimetype": "text/x-python",
   "name": "python",
   "nbconvert_exporter": "python",
   "pygments_lexer": "ipython3",
   "version": "3.7.3"
  }
 },
 "nbformat": 4,
 "nbformat_minor": 2
}
